{
 "cells": [
  {
   "cell_type": "markdown",
   "metadata": {},
   "source": [
    "1. State in brief about the high-level idea of the dataset? What the dataset is about? Donot exceed more than 3 sentences\n",
    "\n",
    "Answer: The data scientists at BigMart have collected sales data for 1559 products across 10 stores in different cities for the year 2013. Now each product has certain attributes that sets it apart from other products. Same is the case with each store.\n",
    "\n",
    "2. Where did you find the dataset? Give specific link or source. State clearly if the dataset is collected from somehwere unsharable and why\n",
    "\n",
    "Answer: This dataset is downloaded from a hackathon competition of Analytics Vidhya. Here is the link: https://datahack.analyticsvidhya.com/contest/practice-problem-big-mart-sales-iii/#ProblemStatement\n",
    "\n",
    "3. What is the specific reason that you chose the dataset?\n",
    "\n",
    "Answer: I found the problem statement very much relatable to our course plan. I think this can be helpful for learning data analysis. Also, this can be a challange for me to solve after completing this course to check how much I practiced and learnt.\n",
    "The challange is to build a predictive model and predict the sales of each product at a particular outlet. I believe I can solve this.\n",
    "\n",
    "This is the problem statement:\n",
    "\n",
    "The data scientists at BigMart have collected 2013 sales data for 1559 products across 10 stores in different cities. Also, certain attributes of each product and store have been defined. The aim is to build a predictive model and predict the sales of each product at a particular outlet.\n",
    "\n",
    "Using this model, BigMart will try to understand the properties of products and outlets which play a key role in increasing sales.\n",
    "\n",
    "4. How many rows and how many columns the dataset contains?\n",
    "\n",
    "Answer: Number of Rows: 8523\n",
    "\n",
    "Number of Columns: 12\n",
    "\n",
    "5. What are the name of the columns? What each column means, state and explain clearly. If some column description is unclear to you, also state that.\n",
    "\n",
    "Answer: Item_Identifier: Unique product ID\n",
    "\n",
    "Item_Weight: Weight of product\n",
    "\n",
    "Item_Fat_Content: Whether the product is low fat or not\n",
    "\n",
    "Item_Visibility: The % of total display area of all products in a store allocated to the particular product\n",
    "\n",
    "Item_Type: The category to which the product belongs\n",
    "\n",
    "Item_MRP: Maximum Retail Price (list price) of the product\n",
    "\n",
    "Outlet_Identifier: Unique store ID\n",
    "\n",
    "Outlet_Establishment_Year: The year in which store was established\n",
    "\n",
    "Outlet_Size: The size of the store in terms of ground area covered\n",
    "\n",
    "Outlet_Location_Type: The type of city in which the store is located\n",
    "\n",
    "Outlet_Type: Whether the outlet is just a grocery store or some sort of supermarket\n",
    "\n",
    "Item_Outlet_Sales: Sales of the product in the particular store. This is the outcome variable to be predicted.\n",
    "\n",
    "6. What is the data type of each column? Is it integer, float or string?\n",
    "\n",
    "Answer: Item_Identifier: String\n",
    "\n",
    "Item_Weight: Double\n",
    "\n",
    "Item_Fat_Content: String\n",
    "\n",
    "Item_Visibility: Double\n",
    "\n",
    "Item_Type: String\n",
    "\n",
    "Item_MRP: Double\n",
    "\n",
    "Outlet_Identifier: String\n",
    "\n",
    "Outlet_Establishment_Year: Integer\n",
    "\n",
    "Outlet_Size: String\n",
    "\n",
    "Outlet_Location_Type: String\n",
    "\n",
    "Outlet_Type: String\n",
    "\n",
    "Item_Outlet_Sales: Float"
   ]
  },
  {
   "cell_type": "markdown",
   "metadata": {},
   "source": [
    "## Step 1: Exploratory Analysis on the train data"
   ]
  },
  {
   "cell_type": "code",
   "execution_count": null,
   "metadata": {},
   "outputs": [],
   "source": [
    "import pandas as pd\n",
    "import numpy as np\n",
    "import matplotlib.pyplot as plt\n",
    "%matplotlib inline"
   ]
  },
  {
   "cell_type": "code",
   "execution_count": null,
   "metadata": {},
   "outputs": [],
   "source": [
    "%%HTML\n",
    "<style type=\"text/css\">\n",
    "table.dataframe td, table.dataframe th {\n",
    "    border: 1px  black solid !important;\n",
    "  color: black !important;\n",
    "}\n",
    "</style>"
   ]
  },
  {
   "cell_type": "code",
   "execution_count": null,
   "metadata": {},
   "outputs": [],
   "source": [
    "df = pd.read_csv(\"D:\\Data_Analysis\\Market_train.csv\")\n",
    "df.head(10)"
   ]
  },
  {
   "cell_type": "markdown",
   "metadata": {},
   "source": [
    "Problem Found: Same code is showing Filenotfounderror in google colab"
   ]
  },
  {
   "cell_type": "code",
   "execution_count": null,
   "metadata": {},
   "outputs": [],
   "source": [
    "df.info()"
   ]
  },
  {
   "cell_type": "code",
   "execution_count": null,
   "metadata": {},
   "outputs": [],
   "source": [
    "df.dtypes"
   ]
  },
  {
   "cell_type": "code",
   "execution_count": null,
   "metadata": {},
   "outputs": [],
   "source": [
    "df.describe()"
   ]
  },
  {
   "cell_type": "markdown",
   "metadata": {},
   "source": [
    "Count of Item weight is 7060 whereas others are the same as total row number. This means there are null values in this column."
   ]
  },
  {
   "cell_type": "code",
   "execution_count": null,
   "metadata": {},
   "outputs": [],
   "source": [
    "df.describe(include=object).transpose()"
   ]
  },
  {
   "cell_type": "markdown",
   "metadata": {},
   "source": [
    "Count of Outlet_size is 6113 whereas others are the same as total row number. This means there are null values in this column. \n",
    "\n",
    "And the Fat column has 5 unique values. Need to check."
   ]
  },
  {
   "cell_type": "code",
   "execution_count": null,
   "metadata": {},
   "outputs": [],
   "source": [
    "df.Outlet_Location_Type.describe()"
   ]
  },
  {
   "cell_type": "markdown",
   "metadata": {},
   "source": [
    "Indian cities are classified as X (Tier 1), Y (Tier 2), and Z (Tier 3) categories by the Government of India, based on the population density of the city. In highly populated cities, people will have to pay more money to get goods and services. That is, the living expense will be greater.\n",
    "Tier1 > Tier 2 > Tier 3  if I sort them according to life expenses, polpulation and other advantages.\n",
    "But it will be reversed in case of number of cities of each type."
   ]
  },
  {
   "cell_type": "code",
   "execution_count": null,
   "metadata": {},
   "outputs": [],
   "source": [
    "df.Item_MRP.describe()"
   ]
  },
  {
   "cell_type": "code",
   "execution_count": null,
   "metadata": {},
   "outputs": [],
   "source": [
    "df.Item_Visibility.describe()"
   ]
  },
  {
   "cell_type": "code",
   "execution_count": null,
   "metadata": {},
   "outputs": [],
   "source": [
    "df.Outlet_Type.value_counts()"
   ]
  },
  {
   "cell_type": "code",
   "execution_count": null,
   "metadata": {},
   "outputs": [],
   "source": [
    "df.Item_Type.value_counts()"
   ]
  },
  {
   "cell_type": "code",
   "execution_count": null,
   "metadata": {},
   "outputs": [],
   "source": [
    "df.Item_Fat_Content.value_counts()"
   ]
  },
  {
   "cell_type": "markdown",
   "metadata": {},
   "source": [
    "Need to replace the last three values."
   ]
  },
  {
   "cell_type": "code",
   "execution_count": null,
   "metadata": {},
   "outputs": [],
   "source": [
    "df.replace('LF', \"Low Fat\", inplace=True)\n",
    "df.replace('low fat', \"Low Fat\", inplace=True)\n",
    "df.replace('reg', \"Regular\", inplace=True)"
   ]
  },
  {
   "cell_type": "code",
   "execution_count": null,
   "metadata": {},
   "outputs": [],
   "source": [
    "df.Item_Fat_Content.value_counts()"
   ]
  },
  {
   "cell_type": "code",
   "execution_count": null,
   "metadata": {},
   "outputs": [],
   "source": [
    "df.isnull().values.any()"
   ]
  },
  {
   "cell_type": "markdown",
   "metadata": {},
   "source": [
    "That means I need to fill these missing values."
   ]
  },
  {
   "cell_type": "code",
   "execution_count": null,
   "metadata": {},
   "outputs": [],
   "source": [
    "df.isnull().any()"
   ]
  },
  {
   "cell_type": "markdown",
   "metadata": {},
   "source": [
    "This seems I guessed right. I need to check the data of these two columns."
   ]
  },
  {
   "cell_type": "code",
   "execution_count": null,
   "metadata": {},
   "outputs": [],
   "source": [
    "df.Item_Weight.describe()"
   ]
  },
  {
   "cell_type": "code",
   "execution_count": null,
   "metadata": {},
   "outputs": [],
   "source": [
    "df.Item_Weight.isnull().sum()"
   ]
  },
  {
   "cell_type": "code",
   "execution_count": null,
   "metadata": {},
   "outputs": [],
   "source": [
    "df.Outlet_Size.describe()"
   ]
  },
  {
   "cell_type": "code",
   "execution_count": null,
   "metadata": {},
   "outputs": [],
   "source": [
    "df.Outlet_Size.isnull().sum()"
   ]
  },
  {
   "cell_type": "code",
   "execution_count": null,
   "metadata": {},
   "outputs": [],
   "source": [
    "print('The percentage of missing values in the Item_Weight variable is {0:.2f}%'.format(df.Item_Weight.isnull().sum()*100/df.shape[0]))"
   ]
  },
  {
   "cell_type": "code",
   "execution_count": null,
   "metadata": {},
   "outputs": [],
   "source": [
    "print('The percentage of missing values in the Outlet_Size variable is {0:.2f}%'.format(df.Outlet_Size.isnull().sum()*100/df.shape[0]))"
   ]
  },
  {
   "cell_type": "code",
   "execution_count": null,
   "metadata": {},
   "outputs": [],
   "source": [
    "def fillmissing_numeric(table, col_name):\n",
    "    table[col_name] = table[col_name].astype('float64')\n",
    "    table[col_name].fillna(table[col_name].mean(), inplace=True)\n",
    "    \n",
    "def fillmissing_object(table, col_name):\n",
    "    table[col_name] = table[col_name].astype('object')\n",
    "    table[col_name].fillna(table[col_name].value_counts().idxmax(), inplace=True)"
   ]
  },
  {
   "cell_type": "code",
   "execution_count": null,
   "metadata": {},
   "outputs": [],
   "source": [
    "fillmissing_numeric(df, 'Item_Weight')\n",
    "fillmissing_object(df, 'Outlet_Size')"
   ]
  },
  {
   "cell_type": "code",
   "execution_count": null,
   "metadata": {},
   "outputs": [],
   "source": [
    "df.isnull().any()"
   ]
  },
  {
   "cell_type": "code",
   "execution_count": null,
   "metadata": {},
   "outputs": [],
   "source": [
    "df.dtypes"
   ]
  },
  {
   "cell_type": "markdown",
   "metadata": {},
   "source": [
    "## Step 2: Visualization of distribution\n",
    "\n",
    "\n",
    "We will start with exploring of the Item_Outlet_Sales. We will see how the Item_Outlet_Sales is distributed."
   ]
  },
  {
   "cell_type": "code",
   "execution_count": null,
   "metadata": {},
   "outputs": [],
   "source": [
    "df['Item_Outlet_Sales'].describe()"
   ]
  },
  {
   "cell_type": "code",
   "execution_count": null,
   "metadata": {},
   "outputs": [],
   "source": [
    "#Let's visualize\n",
    "import matplotlib.pyplot as plt\n",
    "%matplotlib inline\n",
    "df['Item_Outlet_Sales'].hist(bins=100, figsize=(20, 10), edgecolor = 'white', range = [30, 13100]) #edgecolor ensures in-between bins, we have something different color as seperator\n",
    "plt.xlabel('Item_Outlet_Sales', fontsize=20)\n",
    "plt.ylabel('Number of entries in the range', fontsize=20)"
   ]
  },
  {
   "cell_type": "markdown",
   "metadata": {},
   "source": [
    "The Item_Outlet_Sales distribution is highly skewed to right side. That means, most outlet sales are between 0 to 8000 rupees and may be some in between 10000 to 12000."
   ]
  },
  {
   "cell_type": "code",
   "execution_count": null,
   "metadata": {},
   "outputs": [],
   "source": [
    "print('Item_Outlet_Sales less than or equal to 2000 rupees are {:.2f}% of the total data'.format(df[df.Item_Outlet_Sales<=2000].shape[0]*100/df.shape[0]))\n",
    "      \n",
    "print('Item_Outlet_Sales less than or equal to 4000 rupees are {:.2f}% of the total data'.format(df[df.Item_Outlet_Sales<=4000].shape[0]*100/df.shape[0]))\n",
    "\n",
    "print('Item_Outlet_Sales less than or equal to 6000 rupees are {:.2f}% of the total data'.format(df[df.Item_Outlet_Sales<=6000].shape[0]*100/df.shape[0]))\n",
    "\n",
    "print('Item_Outlet_Sales less than or equal to 8000 rupees are {:.2f}% of the total data'.format(df[df.Item_Outlet_Sales<=8000].shape[0]*100/df.shape[0]))\n",
    "\n",
    "print('Item_Outlet_Sales less than or equal to 12000 rupees are {:.2f}% of the total data'.format(df[df.Item_Outlet_Sales<=12000].shape[0]*100/df.shape[0]))"
   ]
  },
  {
   "cell_type": "markdown",
   "metadata": {},
   "source": [
    "We will try to analyze Outlet_Type, Outlet_Location_Type"
   ]
  },
  {
   "cell_type": "code",
   "execution_count": null,
   "metadata": {},
   "outputs": [],
   "source": [
    "df['Outlet_Type'].value_counts()*100/len(df)"
   ]
  },
  {
   "cell_type": "markdown",
   "metadata": {},
   "source": [
    "Most of the outlets, in this case 65% of them are Supermarket Type1 type. Others are sort of equal with a percentage of 10 to 12%. "
   ]
  },
  {
   "cell_type": "code",
   "execution_count": null,
   "metadata": {},
   "outputs": [],
   "source": [
    "df['Outlet_Location_Type'].value_counts()*100/len(df)"
   ]
  },
  {
   "cell_type": "markdown",
   "metadata": {},
   "source": [
    "Outlets on Tier 3 are the highest of number, with 39%, then Tier 2 with 32% and then Tier 3 with 28%"
   ]
  },
  {
   "cell_type": "code",
   "execution_count": null,
   "metadata": {},
   "outputs": [],
   "source": [
    "import seaborn as sns\n",
    "sns.boxplot(x='Outlet_Location_Type', y='Item_Outlet_Sales', data=df)\n",
    "plt.show()"
   ]
  },
  {
   "cell_type": "code",
   "execution_count": null,
   "metadata": {},
   "outputs": [],
   "source": [
    "sns.boxplot(x='Outlet_Type', y='Item_Outlet_Sales', data=df)\n",
    "plt.show()"
   ]
  },
  {
   "cell_type": "code",
   "execution_count": null,
   "metadata": {},
   "outputs": [],
   "source": [
    "#correlation between all the variables\n",
    "df.corr()"
   ]
  },
  {
   "cell_type": "markdown",
   "metadata": {},
   "source": [
    "We can see here, there's no visible correlation, just a slight relation between Item_MRP and Item_Outlet_Sales. Just for visualization, next block is shown."
   ]
  },
  {
   "cell_type": "code",
   "execution_count": null,
   "metadata": {},
   "outputs": [],
   "source": [
    "# Visulaize all correlations\n",
    "\n",
    "col_dtypes = df.dtypes.tolist()\n",
    "numeric_cols = [df.columns[idx] for idx, col_type in enumerate(col_dtypes) if col_type=='int64' or col_type=='float64']\n",
    "df_numerics = df[numeric_cols]\n",
    "f, axes = plt.subplots(3,2)\n",
    "f.set_figheight(15)\n",
    "f.set_figwidth(25)\n",
    "col_idx = 0\n",
    "for i in range(3):\n",
    "    for j in range(2):\n",
    "        x = numeric_cols[col_idx]\n",
    "        sns.regplot(x, y=\"Item_Outlet_Sales\", data=df_numerics, ax=axes[i][j])\n",
    "        col_idx += 1\n",
    "        if(col_idx>=5):\n",
    "            break\n"
   ]
  },
  {
   "cell_type": "code",
   "execution_count": null,
   "metadata": {},
   "outputs": [],
   "source": [
    "# visualizing the average Item_Outlet_Sales of the items for different Item_Types\n",
    "mean_Item_Outlet_Sales = df[['Item_Type', 'Item_Outlet_Sales']].groupby('Item_Type').mean()\n",
    "mean_Item_Outlet_Sales.sort_values(by='Item_Outlet_Sales', ascending=True, inplace=True)\n",
    "mean_Item_Outlet_Sales.plot(kind='bar', figsize=(20,10))\n",
    "plt.ylabel('Item_Outlet_Sales')\n",
    "plt.show()"
   ]
  },
  {
   "cell_type": "code",
   "execution_count": null,
   "metadata": {},
   "outputs": [],
   "source": [
    "# visualizing the average Outlet_Identifier of the items for different Item_Types\n",
    "mean_Item_Outlet_Sales = df[['Outlet_Identifier', 'Item_Outlet_Sales']].groupby('Outlet_Identifier').mean()\n",
    "mean_Item_Outlet_Sales.sort_values(by='Item_Outlet_Sales', ascending=True, inplace=True)\n",
    "mean_Item_Outlet_Sales.plot(kind='bar', figsize=(20,10))\n",
    "plt.ylabel('Item_Outlet_Sales')\n",
    "plt.show()"
   ]
  },
  {
   "cell_type": "markdown",
   "metadata": {},
   "source": [
    "## Step 3: Prediction Model"
   ]
  },
  {
   "cell_type": "code",
   "execution_count": null,
   "metadata": {},
   "outputs": [],
   "source": [
    "from sklearn.linear_model import LinearRegression\n",
    "from sklearn.metrics import mean_squared_error, r2_score"
   ]
  },
  {
   "cell_type": "code",
   "execution_count": null,
   "metadata": {},
   "outputs": [],
   "source": [
    "model_base = LinearRegression()"
   ]
  },
  {
   "cell_type": "code",
   "execution_count": null,
   "metadata": {},
   "outputs": [],
   "source": [
    "# make the trainable set of data\n",
    "data_X = df[['Item_Weight', 'Item_Visibility', 'Item_MRP', 'Outlet_Establishment_Year']]\n",
    "data_Y = df['Item_Outlet_Sales']"
   ]
  },
  {
   "cell_type": "code",
   "execution_count": null,
   "metadata": {},
   "outputs": [],
   "source": [
    "model_base.fit(data_X, data_Y)"
   ]
  },
  {
   "cell_type": "code",
   "execution_count": null,
   "metadata": {},
   "outputs": [],
   "source": [
    "model_base.coef_"
   ]
  },
  {
   "cell_type": "code",
   "execution_count": null,
   "metadata": {},
   "outputs": [],
   "source": [
    "Prediction = model_base.predict(data_X)\n",
    "Actual = data_Y"
   ]
  },
  {
   "cell_type": "code",
   "execution_count": null,
   "metadata": {},
   "outputs": [],
   "source": [
    "#comparison\n",
    "plt.figure(figsize=(20, 10))\n",
    "\n",
    "\n",
    "ax1 = sns.distplot(Actual, hist=False, color=\"r\", label=\"Actual Value\")\n",
    "sns.distplot(Prediction, hist=False, color=\"b\", label=\"Fitted Values\" , ax=ax1)\n",
    "\n",
    "\n",
    "plt.title('Actual vs Fitted Values for Item_Outlet_Sales')\n",
    "plt.xlabel('Item_Outlet_Sales (in rupees)')\n",
    "plt.ylabel('Proportion of Items')\n",
    "\n",
    "plt.show()\n",
    "plt.close()"
   ]
  },
  {
   "cell_type": "markdown",
   "metadata": {},
   "source": [
    "Not a good one!\n",
    "Let's take a look at the MSE and R-squared error."
   ]
  },
  {
   "cell_type": "code",
   "execution_count": null,
   "metadata": {},
   "outputs": [],
   "source": [
    "mean_squared_error(Actual, Prediction)"
   ]
  },
  {
   "cell_type": "code",
   "execution_count": null,
   "metadata": {},
   "outputs": [],
   "source": [
    "r2_score(Actual, Prediction)"
   ]
  },
  {
   "cell_type": "markdown",
   "metadata": {},
   "source": [
    "### Let's try another one"
   ]
  },
  {
   "cell_type": "code",
   "execution_count": null,
   "metadata": {},
   "outputs": [],
   "source": [
    "col_dtypes = df.dtypes.tolist()\n",
    "categorical_cols = [df.columns[idx] for idx, col_type in enumerate(col_dtypes) if col_type=='O']\n",
    "df_categorical = pd.get_dummies(df[categorical_cols])\n",
    "df_categorical"
   ]
  },
  {
   "cell_type": "code",
   "execution_count": null,
   "metadata": {},
   "outputs": [],
   "source": [
    "numeric_cols = [df.columns[idx] for idx, col_type in enumerate(col_dtypes) if col_type=='int64' or col_type=='float64']\n",
    "df_numerics = df[numeric_cols]\n",
    "df_numerics.drop('Item_Outlet_Sales', axis=1, inplace=True)\n",
    "df_numeric_scaled = (df_numerics-df_numerics.mean())/(df_numerics.std())"
   ]
  },
  {
   "cell_type": "code",
   "execution_count": null,
   "metadata": {},
   "outputs": [],
   "source": [
    "data_X = pd.concat([df_categorical, df_numeric_scaled], axis=1)\n",
    "data_X"
   ]
  },
  {
   "cell_type": "code",
   "execution_count": null,
   "metadata": {},
   "outputs": [],
   "source": [
    "model_02 = LinearRegression()\n",
    "data_Y = df['Item_Outlet_Sales']\n",
    "model_02.fit(data_X, data_Y)\n",
    "Prediction = model_02.predict(data_X)\n",
    "Actual = data_Y\n",
    "\n",
    "#comparison\n",
    "plt.figure(figsize=(20, 10))\n",
    "\n",
    "\n",
    "ax1 = sns.distplot(Actual, hist=False, color=\"r\", label=\"Actual Value\")\n",
    "sns.distplot(Prediction, hist=False, color=\"b\", label=\"Fitted Values\" , ax=ax1)\n",
    "\n",
    "\n",
    "plt.title('Actual vs Fitted Values for Item_Outlet_Sales')\n",
    "plt.xlabel('Item_Outlet_Sales (in rupees)')\n",
    "plt.ylabel('Proportion of Items')\n",
    "\n",
    "plt.show()\n",
    "plt.close()"
   ]
  },
  {
   "cell_type": "code",
   "execution_count": null,
   "metadata": {},
   "outputs": [],
   "source": [
    "r2_score(Actual, Prediction)"
   ]
  },
  {
   "cell_type": "code",
   "execution_count": null,
   "metadata": {},
   "outputs": [],
   "source": [
    "mean_squared_error(Actual, Prediction)"
   ]
  },
  {
   "cell_type": "markdown",
   "metadata": {},
   "source": [
    "It's better than the previous one, but still not the best. "
   ]
  }
 ],
 "metadata": {
  "kernelspec": {
   "display_name": "Python 3",
   "language": "python",
   "name": "python3"
  },
  "language_info": {
   "codemirror_mode": {
    "name": "ipython",
    "version": 3
   },
   "file_extension": ".py",
   "mimetype": "text/x-python",
   "name": "python",
   "nbconvert_exporter": "python",
   "pygments_lexer": "ipython3",
   "version": "3.7.6"
  }
 },
 "nbformat": 4,
 "nbformat_minor": 4
}
